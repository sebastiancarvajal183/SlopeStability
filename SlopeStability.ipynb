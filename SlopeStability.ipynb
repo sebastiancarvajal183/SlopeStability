{
  "nbformat": 4,
  "nbformat_minor": 0,
  "metadata": {
    "colab": {
      "name": "SlopeStability.ipynb",
      "version": "0.3.2",
      "provenance": [],
      "collapsed_sections": [],
      "toc_visible": true,
      "include_colab_link": true
    },
    "kernelspec": {
      "name": "python3",
      "display_name": "Python 3"
    }
  },
  "cells": [
    {
      "cell_type": "markdown",
      "metadata": {
        "id": "view-in-github",
        "colab_type": "text"
      },
      "source": [
        "<a href=\"https://colab.research.google.com/github/jsebasc3/SlopeStability/blob/master/SlopeStability.ipynb\" target=\"_parent\"><img src=\"https://colab.research.google.com/assets/colab-badge.svg\" alt=\"Open In Colab\"/></a>"
      ]
    },
    {
      "cell_type": "markdown",
      "metadata": {
        "id": "bdsNu38GzN87",
        "colab_type": "text"
      },
      "source": [
        "#Embankment and excavation stress paths in a normally consolidated soil.\n",
        "\n"
      ]
    },
    {
      "cell_type": "code",
      "metadata": {
        "id": "DEcf1sKxzANP",
        "colab_type": "code",
        "colab": {}
      },
      "source": [
        "import numpy as np\n",
        "import pandas as pd\n",
        "from matplotlib import pyplot as plt"
      ],
      "execution_count": 0,
      "outputs": []
    },
    {
      "cell_type": "markdown",
      "metadata": {
        "id": "YHMAVn00Lc1z",
        "colab_type": "text"
      },
      "source": [
        "##Embankment\n",
        "\n",
        "Se obtienen las rutas de esfuerzos en un terraplen. donde $ETS$ es el esfuerzo total efectivo, $TSP$ esfuerzo total efectivo y $(T-U_o)SP$ esfuerzo total menos presión de poros. Se presenta $\\Delta U_o >0$ debido al exceso de presión de poros después de haber colocado la sobre-carga.\n",
        "\n"
      ]
    },
    {
      "cell_type": "code",
      "metadata": {
        "id": "RCEAwv59LhLz",
        "colab_type": "code",
        "outputId": "c2a4dbd7-6ac1-4d9b-a083-6dc7747e07e3",
        "colab": {
          "base_uri": "https://localhost:8080/",
          "height": 296
        }
      },
      "source": [
        "#DATOS DE ENTRADA\n",
        "esp1=20 #peso especifico suelo\n",
        "esp2=22 #peso especifico del lleno\n",
        "gwp=0 #altura nivel freatico\n",
        "k0=0.5 #presion de tierra\n",
        "h=4#profundidad punto A\n",
        "h1=1 #alturalleno\n",
        "\n",
        "#condiciones para kf\n",
        "c=2\n",
        "phi=30\n",
        "\n",
        "#___________________________________________________________\n",
        "#caso inicial\n",
        "sigmav=esp1*h\n",
        "u=10*(h-gwp)\n",
        "esigmav=sigmav-u\n",
        "esigmah=esigmav*k0\n",
        "sigmah=esigmah+u\n",
        "\n",
        "p1=(sigmav+sigmah)/2\n",
        "ep1=(esigmav+esigmah)/2\n",
        "q1=(sigmav-sigmah)/2\n",
        " \n",
        "#caso secundario\n",
        "sigmav=esp1*h + esp2*h1\n",
        "u=10*(h-gwp)\n",
        "esigmav=sigmav-u\n",
        "esigmah=esigmav*k0\n",
        "sigmah=esigmah+u\n",
        "\n",
        "p2=(sigmav+sigmah)/2\n",
        "ep2=(esigmav+esigmah)/2\n",
        "q2=(sigmav-sigmah)/2\n",
        "       \n",
        "#caso terciario\n",
        "sigmav=esp1*h + esp2*h1\n",
        "u=10*(h-gwp)\n",
        "esigmav=sigmav-u\n",
        "esigmah=esigmav*k0\n",
        "sigmah=esigmah+u\n",
        "esigmav=esigmav-(esp2*h1)\n",
        "esigmah=esigmah-(esp2*h1)\n",
        "\n",
        "p3=(sigmav+sigmah)/2\n",
        "ep3=(esigmav+esigmah)/2\n",
        "q3=(sigmav-sigmah)/2\n",
        "\n",
        "#se define kf\n",
        "a=c*np.cos(phi*3.1415/180)\n",
        "p=np.arange(0,ep2,1)\n",
        "q=a+p*np.sin(phi*3.1415/180)\n",
        "\n",
        "plt.plot([p1,p2],[q1,q2],label='TSP')\n",
        "plt.plot([ep1,ep2],[q1,q2],label='(T-Uo)SP')\n",
        "plt.plot([p3,ep3],[q3,q3],label='ESP')\n",
        "plt.plot(p,q,label=\"kf\")\n",
        "\n",
        "plt.plot()\n",
        "plt.xlabel(\"pp´\")\n",
        "plt.ylabel(\"q\")\n",
        "plt.title(\"Embankment stress path\")\n",
        "plt.legend()\n",
        "plt.grid(True)\n",
        "plt.show()\n",
        "#fig.savefig(\"embakment.png\")"
      ],
      "execution_count": 3,
      "outputs": [
        {
          "output_type": "display_data",
          "data": {
            "image/png": "[encoded data removed]",
            "text/plain": [
              "<Figure size 432x288 with 1 Axes>"
            ]
          },
          "metadata": {
            "tags": []
          }
        }
      ]
    },
    {
      "cell_type": "markdown",
      "metadata": {
        "id": "HTkUVkxEWS05",
        "colab_type": "text"
      },
      "source": [
        "## Excavation\n",
        "Se analiza el caso para una excavación, en el momento $t=0$ después de haber hecho la excavacion no se presenta una relajación de esfuerzos en $\\sigma'_h$ por lo que se toma el mismo valor que la condición inicial. También en este caso se puede presentar un $\\Delta U_0 < 0 $ debido a la reducción del nivel freático que con el tiempo tiende a disiparse."
      ]
    },
    {
      "cell_type": "code",
      "metadata": {
        "id": "3jBTEv2gWYZe",
        "colab_type": "code",
        "outputId": "3a554edf-9f2c-4d76-ea74-db03b575ba2c",
        "colab": {
          "base_uri": "https://localhost:8080/",
          "height": 296
        }
      },
      "source": [
        "#DATOS DE ENTRADA\n",
        "esp1=20 #peso especifico del suelo\n",
        "gwp=1 #altura nivel freatico\n",
        "k0=0.6 #presion de tierra\n",
        "h=4#profundidad punto A\n",
        "h1=2 #prof_excavacion\n",
        "\n",
        "#condiciones para kf\n",
        "c=2\n",
        "phi=25\n",
        "\n",
        "#___________________________________________________________\n",
        "#caso inicial\n",
        "sigmav=esp1*h\n",
        "u=10*(h-gwp)\n",
        "esigmav=sigmav-u\n",
        "esigmah=esigmav*k0\n",
        "sigmah=esigmah+u\n",
        "\n",
        "p1=(sigmav+sigmah)/2\n",
        "ep1=(esigmav+esigmah)/2\n",
        "q1=(sigmav-sigmah)/2\n",
        " \n",
        "#caso secundario\n",
        "sigmav=esp1*(h-h1) \n",
        "if h1>=gwp:\n",
        "    u=10*(h-h1)\n",
        "else:\n",
        "    u=10*(h-gwp)\n",
        "\n",
        "esigmav=sigmav-u\n",
        "sigmah=esigmah+u\n",
        "\n",
        "p2=(sigmav+sigmah)/2\n",
        "ep2=(esigmav+esigmah)/2\n",
        "q2=(sigmav-sigmah)/2\n",
        "\n",
        "#caso terciario\n",
        "\n",
        "if h1>=gwp:\n",
        "    esigmav=sigmav-(10*(h1-gwp))\n",
        "    esigmah=sigmah-(10*(h1-gwp))\n",
        "\n",
        "p3=(sigmav+sigmah)/2\n",
        "ep3=(esigmav+esigmah)/2\n",
        "q3=(sigmav-sigmah)/2\n",
        "\n",
        "#se define kf\n",
        "a=c*np.cos(phi*3.1415/180)\n",
        "p=np.arange(0,ep3,1)\n",
        "q=-p*np.sin(phi*3.1415/180)\n",
        "\n",
        "plt.plot([p1,p2],[q1,q2],label='TSP')\n",
        "plt.plot([ep1,ep2],[q1,q2],label='(T-Uo)SP')\n",
        "plt.plot([p3,ep3],[q3,q3],label='ESP')\n",
        "plt.plot(p,q,label=\"kf\")\n",
        "\n",
        "plt.plot()\n",
        "plt.xlabel(\"pp´\")\n",
        "plt.ylabel(\"q\")\n",
        "plt.title(\"Excavation stress path\")\n",
        "plt.legend()\n",
        "plt.grid(True)\n",
        "plt.show()\n",
        "#fig.savefig(\"embakment.png\")"
      ],
      "execution_count": 4,
      "outputs": [
        {
          "output_type": "display_data",
          "data": {
            "image/png": "[encoded data removed]",
            "text/plain": [
              "<Figure size 432x288 with 1 Axes>"
            ]
          },
          "metadata": {
            "tags": []
          }
        }
      ]
    },
    {
      "cell_type": "markdown",
      "metadata": {
        "id": "HSNTVOYy2Oj0",
        "colab_type": "text"
      },
      "source": [
        "#Slope stability methods"
      ]
    },
    {
      "cell_type": "markdown",
      "metadata": {
        "id": "3VO3ZvRu7Q_k",
        "colab_type": "text"
      },
      "source": [
        "##Fellenious Method\n",
        "\n",
        "Con este método (válido solo para superficies de deslizamiento circulares) se pasan por alto las fuerzas entre las franjas, por lo tanto las incógnitas se reducen a:\n",
        "\n",
        "$$F.O.S=\\frac{\\sum_{i=1}^{n} (cL+N'tan\\phi )}{\\sum_{i=1}^{n}A_{1}-\\sum_{i=1}^{n}A_{2}+\\sum_{i=1}^{n}A_{3}}$$\n",
        "\n",
        "Esta ecuación es fácil de resolver pero se ha visto que da resultados conservadores (factores de seguridad bajos) especialmente para superficies profundas.\n"
      ]
    },
    {
      "cell_type": "code",
      "metadata": {
        "id": "FSW6hwaFO0E_",
        "colab_type": "code",
        "outputId": "514c6936-7391-4cf8-9ca8-cb62c97e0d07",
        "colab": {
          "base_uri": "https://localhost:8080/",
          "height": 34
        }
      },
      "source": [
        "R=9.15   #Radio\n",
        "kv=0.  #vertical seismic coefficient\n",
        "kh=0.0     #horizontal seismic coefficient\n",
        "Ub=0 #Es positivo si esta inundado\n",
        "\n",
        "data = pd.read_csv(\"https://raw.githubusercontent.com/jsebasc3/SlopeStability/master/InputData.csv\")\n",
        "data[\"hw\"]=data.altura/2 #nivel freatico\n",
        "data[\"Q\"]=[0,0,0,0,0,0,0,0,0,0,0,0,0,0,0] #sobrecargas en las cunhas, tienen que ser cargas puntuales\n",
        "\n",
        "data[\"hc\"]=data.altura/2 #altura al centroide de la cunha.\n",
        "data[\"peso_tajada\"]=data.ancho*data.altura*data.peso\n",
        "data[\"long_base\"]=data.ancho/np.cos((data.alfa*np.pi/180))\n",
        "data[\"Ua\"]=data.hw*data.long_base*10\n",
        "data[\"N\"]=-data.Ua-kh*data.peso_tajada*np.sin((data.alfa*np.pi/180))+data.peso_tajada*(1-kv)*np.cos((data.alfa*np.pi/180))+Ub*np.cos(np.pi/180*(data.beta-data.alfa))+data.Q*np.cos(np.pi/180*(data.delta-data.alfa))\n",
        "data[\"FR\"]=(data.c*data.long_base)+(data.N*np.tan(np.pi/180*data.phi))\n",
        "data[\"A1\"]=(data.peso_tajada*(1-kv)+Ub*np.cos(np.pi/180*data.beta)+data.Q*np.cos(np.pi/180*data.delta))*np.sin(np.pi/180*data.alfa)\n",
        "data[\"A2\"]=(Ub*np.sin(np.pi/180*data.beta)+data.Q*np.sin(np.pi/180*data.delta))*(np.cos(np.pi/180*data.alfa)-(data.altura/R))\n",
        "data[\"A3\"]=kh*data.peso_tajada*(np.cos(np.pi/180*data.alfa)-(data.hc/R))\n",
        "data[\"FA\"]=data.A1-data.A2+data.A3\n",
        "\n",
        "data[\"FS\"]=data.FR/data.FA\n",
        "\n",
        "print('FOS =',np.round(np.nansum(data.FR)/np.nansum(data.FA),2))\n",
        "\n",
        "#data.head()\n",
        "#data.plot(kind=\"scatter\",x=\"tajada\",y=\"hw\")\n"
      ],
      "execution_count": 7,
      "outputs": [
        {
          "output_type": "stream",
          "text": [
            "FOS = 1.01\n"
          ],
          "name": "stdout"
        }
      ]
    },
    {
      "cell_type": "markdown",
      "metadata": {
        "id": "RbSCKYPOyRuT",
        "colab_type": "text"
      },
      "source": [
        "## Janbu Simplified Method\n",
        "\n",
        "Este metodo..."
      ]
    },
    {
      "cell_type": "markdown",
      "metadata": {
        "id": "HSVEcH6JjmEs",
        "colab_type": "text"
      },
      "source": [
        ""
      ]
    }
  ]
}